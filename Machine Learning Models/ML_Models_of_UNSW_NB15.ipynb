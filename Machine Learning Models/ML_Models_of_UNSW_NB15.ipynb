{
  "nbformat": 4,
  "nbformat_minor": 0,
  "metadata": {
    "colab": {
      "provenance": []
    },
    "kernelspec": {
      "name": "python3",
      "display_name": "Python 3"
    },
    "language_info": {
      "name": "python"
    },
    "gpuClass": "standard"
  },
  "cells": [
    {
      "cell_type": "markdown",
      "source": [
        "# Data Pre-Processing:"
      ],
      "metadata": {
        "id": "Cte-9yInNw9M"
      }
    },
    {
      "cell_type": "code",
      "source": [
        "# Importing the formatted dataset from a google drive.\n",
        "!pip install --upgrade --no-cache-dir gdown\n",
        "!gdown https://drive.google.com/uc?id=1cvwrlIvVDWuJikwQPfSNBN_7x3Jpcpks "
      ],
      "metadata": {
        "colab": {
          "base_uri": "https://localhost:8080/"
        },
        "id": "14Li7qShOBa6",
        "outputId": "7d36885b-bfad-4924-f44c-b3bf4e2bdd21"
      },
      "execution_count": null,
      "outputs": [
        {
          "output_type": "stream",
          "name": "stdout",
          "text": [
            "Looking in indexes: https://pypi.org/simple, https://us-python.pkg.dev/colab-wheels/public/simple/\n",
            "Requirement already satisfied: gdown in /usr/local/lib/python3.8/dist-packages (4.4.0)\n",
            "Collecting gdown\n",
            "  Downloading gdown-4.6.0-py3-none-any.whl (14 kB)\n",
            "Requirement already satisfied: tqdm in /usr/local/lib/python3.8/dist-packages (from gdown) (4.64.1)\n",
            "Requirement already satisfied: filelock in /usr/local/lib/python3.8/dist-packages (from gdown) (3.9.0)\n",
            "Requirement already satisfied: requests[socks] in /usr/local/lib/python3.8/dist-packages (from gdown) (2.25.1)\n",
            "Requirement already satisfied: beautifulsoup4 in /usr/local/lib/python3.8/dist-packages (from gdown) (4.6.3)\n",
            "Requirement already satisfied: six in /usr/local/lib/python3.8/dist-packages (from gdown) (1.15.0)\n",
            "Requirement already satisfied: certifi>=2017.4.17 in /usr/local/lib/python3.8/dist-packages (from requests[socks]->gdown) (2022.12.7)\n",
            "Requirement already satisfied: idna<3,>=2.5 in /usr/local/lib/python3.8/dist-packages (from requests[socks]->gdown) (2.10)\n",
            "Requirement already satisfied: chardet<5,>=3.0.2 in /usr/local/lib/python3.8/dist-packages (from requests[socks]->gdown) (4.0.0)\n",
            "Requirement already satisfied: urllib3<1.27,>=1.21.1 in /usr/local/lib/python3.8/dist-packages (from requests[socks]->gdown) (1.24.3)\n",
            "Requirement already satisfied: PySocks!=1.5.7,>=1.5.6 in /usr/local/lib/python3.8/dist-packages (from requests[socks]->gdown) (1.7.1)\n",
            "Installing collected packages: gdown\n",
            "  Attempting uninstall: gdown\n",
            "    Found existing installation: gdown 4.4.0\n",
            "    Uninstalling gdown-4.4.0:\n",
            "      Successfully uninstalled gdown-4.4.0\n",
            "Successfully installed gdown-4.6.0\n",
            "Downloading...\n",
            "From: https://drive.google.com/uc?id=1cvwrlIvVDWuJikwQPfSNBN_7x3Jpcpks\n",
            "To: /content/UNSW-NB15_data.csv\n",
            "100% 256M/256M [00:01<00:00, 138MB/s]\n"
          ]
        }
      ]
    },
    {
      "cell_type": "code",
      "source": [
        "# Converting the csv file to a dataframe.\n",
        "import pandas as pd\n",
        "df = pd.read_csv(\"UNSW-NB15_data.csv\")"
      ],
      "metadata": {
        "colab": {
          "base_uri": "https://localhost:8080/"
        },
        "id": "is-6K-Gx0ljj",
        "outputId": "3a14f996-1144-4769-b448-5059df3bd8b6"
      },
      "execution_count": null,
      "outputs": [
        {
          "output_type": "stream",
          "name": "stderr",
          "text": [
            "/usr/local/lib/python3.8/dist-packages/IPython/core/interactiveshell.py:3326: DtypeWarning: Columns (2,4,40,48) have mixed types.Specify dtype option on import or set low_memory=False.\n",
            "  exec(code_obj, self.user_global_ns, self.user_ns)\n"
          ]
        }
      ]
    },
    {
      "cell_type": "code",
      "source": [
        "# Dropping the 'Unnamed: 0' (unessecary) and 'attack_cat' (this column maps 100% to the target column, so using it would not give us a generalizable model) columns:\n",
        "df = df.drop(labels = ['Unnamed: 0', 'attack_cat'], axis = 1)\n",
        "# Drop null values in the following columns (these colums have some null values):\n",
        "df = df.dropna(subset = ['ltime', 'sintpkt', 'dintpkt', 'tcprtt', 'synack', 'ackdat', 'is_sm_ips_ports', 'ct_state_ttl', 'ct_flw_http_mthd', 'is_ftp_login', 'ct_ftp_cmd', 'ct_srv_src', 'ct_srv_dst', 'ct_dst_ltm', 'ct_src_ltm', 'ct_src_dport_ltm', 'ct_dst_sport_ltm', 'ct_dst_src_ltm', 'label'])"
      ],
      "metadata": {
        "id": "0LFGT9ky5Oi3"
      },
      "execution_count": null,
      "outputs": []
    },
    {
      "cell_type": "markdown",
      "source": [
        "# Numerical Features:"
      ],
      "metadata": {
        "id": "hstshLeXNxn3"
      }
    },
    {
      "cell_type": "markdown",
      "source": [
        "Creating the testing and training data with normalization:"
      ],
      "metadata": {
        "id": "-G7aPw6V1FvA"
      }
    },
    {
      "cell_type": "code",
      "source": [
        "# Creating the testing/training data by normalizing the features using z-score normalization.\n",
        "from sklearn.model_selection import train_test_split\n",
        "numerical_features = ['dur', 'sbytes', 'dbytes', 'sttl', 'dttl', 'sloss', 'dloss', 'sload', 'dload', 'spkts', 'dpkts', 'swin', 'dwin', 'stcpb', 'dtcpb', 'smeansz', 'dmeansz', 'trans_depth', 'res_bdy_len', 'sjit', 'djit', 'stime', 'ltime', 'sintpkt', 'dintpkt', 'tcprtt', 'synack', 'ackdat', 'is_sm_ips_ports', 'ct_state_ttl', 'ct_flw_http_mthd', 'is_ftp_login', 'ct_srv_src', 'ct_srv_dst', 'ct_dst_ltm', 'ct_src_ltm', 'ct_src_dport_ltm', 'ct_dst_sport_ltm', 'ct_dst_src_ltm']\n",
        "df_numerical = df[numerical_features]\n",
        "df_numerical =(df_numerical - df_numerical.astype('float32').mean())/(df_numerical.astype('float32').std())\n",
        "y = df.label\n",
        "x = df_numerical\n",
        "X_train, X_test, y_train, y_test = train_test_split(x, y, test_size=0.33, random_state=42)"
      ],
      "metadata": {
        "id": "loJwbfmpCPsf"
      },
      "execution_count": null,
      "outputs": []
    },
    {
      "cell_type": "markdown",
      "source": [
        "Creating a logistic regression model:"
      ],
      "metadata": {
        "id": "KRpIdE3tD7Cm"
      }
    },
    {
      "cell_type": "code",
      "source": [
        "# Creating the model.\n",
        "from sklearn.linear_model import LogisticRegression\n",
        "log_reg_numerical = LogisticRegression(solver = 'lbfgs')\n",
        "log_reg_numerical.fit(X_train, y_train)"
      ],
      "metadata": {
        "colab": {
          "base_uri": "https://localhost:8080/"
        },
        "id": "JuV_3gQ0D7dW",
        "outputId": "8e32b43d-7b62-415a-e4ed-38e83598a5e9"
      },
      "execution_count": null,
      "outputs": [
        {
          "output_type": "execute_result",
          "data": {
            "text/plain": [
              "LogisticRegression()"
            ]
          },
          "metadata": {},
          "execution_count": 5
        }
      ]
    },
    {
      "cell_type": "code",
      "source": [
        "# Getting the accuracy of this model.\n",
        "log_reg_numerical.score(X_test, y_test)"
      ],
      "metadata": {
        "colab": {
          "base_uri": "https://localhost:8080/"
        },
        "id": "RuUPVPoAD-5u",
        "outputId": "619fc05b-7fc2-49ae-b307-2ca1850c0ad9"
      },
      "execution_count": null,
      "outputs": [
        {
          "output_type": "execute_result",
          "data": {
            "text/plain": [
              "0.9707813306132416"
            ]
          },
          "metadata": {},
          "execution_count": 6
        }
      ]
    },
    {
      "cell_type": "code",
      "source": [
        "# Confusion matrix.\n",
        "from sklearn.metrics import confusion_matrix\n",
        "y_pred = log_reg_numerical.predict(X_test)\n",
        "cm = confusion_matrix(y_test, y_pred)\n",
        "cm_df = pd.DataFrame(cm, columns=['Predicted Positive', 'Predicted Negative'], index=['Actual Positive', 'Actual Negative'])\n",
        "print(cm_df)"
      ],
      "metadata": {
        "colab": {
          "base_uri": "https://localhost:8080/"
        },
        "id": "IQOZDHMIEBN5",
        "outputId": "e7eb4d4e-1026-4ac1-804c-234e42e23f96"
      },
      "execution_count": null,
      "outputs": [
        {
          "output_type": "stream",
          "name": "stdout",
          "text": [
            "                 Predicted Positive  Predicted Negative\n",
            "Actual Positive              246485                  10\n",
            "Actual Negative                7409                   9\n"
          ]
        }
      ]
    },
    {
      "cell_type": "markdown",
      "source": [
        "Creating a decision tree model:"
      ],
      "metadata": {
        "id": "sKIGU9JIEHgQ"
      }
    },
    {
      "cell_type": "code",
      "source": [
        "# Creating the model.\n",
        "from sklearn.tree import DecisionTreeClassifier\n",
        "decision_tree_numerical = DecisionTreeClassifier()\n",
        "decision_tree_numerical.fit(X_train, y_train)"
      ],
      "metadata": {
        "colab": {
          "base_uri": "https://localhost:8080/"
        },
        "id": "c352WvO8EIak",
        "outputId": "70c30cfe-c16d-4ced-8dcd-91238dd6b1c1"
      },
      "execution_count": null,
      "outputs": [
        {
          "output_type": "execute_result",
          "data": {
            "text/plain": [
              "DecisionTreeClassifier()"
            ]
          },
          "metadata": {},
          "execution_count": 8
        }
      ]
    },
    {
      "cell_type": "code",
      "source": [
        "# Getting the accuracy of decision tree model.\n",
        "decision_tree_numerical.score(X_test, y_test)"
      ],
      "metadata": {
        "colab": {
          "base_uri": "https://localhost:8080/"
        },
        "id": "dZBqSBcAELgl",
        "outputId": "7e548138-1262-4270-98bf-be0c07f51f23"
      },
      "execution_count": null,
      "outputs": [
        {
          "output_type": "execute_result",
          "data": {
            "text/plain": [
              "0.9952227731545844"
            ]
          },
          "metadata": {},
          "execution_count": 9
        }
      ]
    },
    {
      "cell_type": "code",
      "source": [
        "# Confusion matrix.\n",
        "y_pred = decision_tree_numerical.predict(X_test)\n",
        "cm = confusion_matrix(y_test, y_pred)\n",
        "cm_df = pd.DataFrame(cm, columns=['Predicted Positive', 'Predicted Negative'], index=['Actual Positive', 'Actual Negative'])\n",
        "print(cm_df)"
      ],
      "metadata": {
        "colab": {
          "base_uri": "https://localhost:8080/"
        },
        "id": "g_7nmt6yEL8r",
        "outputId": "1d9fe8b2-df80-4a7c-9676-79f7e27205d8"
      },
      "execution_count": null,
      "outputs": [
        {
          "output_type": "stream",
          "name": "stdout",
          "text": [
            "                 Predicted Positive  Predicted Negative\n",
            "Actual Positive              245977                 518\n",
            "Actual Negative                 695                6723\n"
          ]
        }
      ]
    },
    {
      "cell_type": "markdown",
      "source": [
        "Creating a random forest model of 70 trees:"
      ],
      "metadata": {
        "id": "7G-RNSAGENKp"
      }
    },
    {
      "cell_type": "code",
      "source": [
        "# Creates random forest model.\n",
        "from sklearn.ensemble import RandomForestClassifier\n",
        "random_forest_numerical = RandomForestClassifier(n_estimators = 70)\n",
        "random_forest_numerical.fit(X_train, y_train)"
      ],
      "metadata": {
        "colab": {
          "base_uri": "https://localhost:8080/"
        },
        "id": "RzphSlmAEPI8",
        "outputId": "f28291d8-0cb0-4d6f-fa4a-0d8a8fcedbf4"
      },
      "execution_count": null,
      "outputs": [
        {
          "output_type": "execute_result",
          "data": {
            "text/plain": [
              "RandomForestClassifier(n_estimators=70)"
            ]
          },
          "metadata": {},
          "execution_count": 11
        }
      ]
    },
    {
      "cell_type": "code",
      "source": [
        "# Gets accuracy of random forest model.\n",
        "random_forest_numerical.score(X_test, y_test)"
      ],
      "metadata": {
        "colab": {
          "base_uri": "https://localhost:8080/"
        },
        "id": "yjZiOxC8ESYj",
        "outputId": "e1f27fbb-cf78-4974-db8a-7f1c630e5544"
      },
      "execution_count": null,
      "outputs": [
        {
          "output_type": "execute_result",
          "data": {
            "text/plain": [
              "0.995526026631169"
            ]
          },
          "metadata": {},
          "execution_count": 12
        }
      ]
    },
    {
      "cell_type": "code",
      "source": [
        "# Confusion matrix.\n",
        "y_pred = random_forest_numerical.predict(X_test)\n",
        "cm = confusion_matrix(y_test, y_pred)\n",
        "cm_df = pd.DataFrame(cm, columns=['Predicted Positive', 'Predicted Negative'], index=['Actual Positive', 'Actual Negative'])\n",
        "print(cm_df)"
      ],
      "metadata": {
        "colab": {
          "base_uri": "https://localhost:8080/"
        },
        "id": "yuvmmaSjESza",
        "outputId": "2c8d3490-655e-4ce3-bee8-c77f41e8752d"
      },
      "execution_count": null,
      "outputs": [
        {
          "output_type": "stream",
          "name": "stdout",
          "text": [
            "                 Predicted Positive  Predicted Negative\n",
            "Actual Positive              246272                 223\n",
            "Actual Negative                 105                7313\n"
          ]
        }
      ]
    },
    {
      "cell_type": "markdown",
      "source": [
        "# Categorical Features:"
      ],
      "metadata": {
        "id": "SO9ZM6fpN1sF"
      }
    },
    {
      "cell_type": "markdown",
      "source": [
        "Creating the testing/training data with normalization nd binary encoding:"
      ],
      "metadata": {
        "id": "OJ3-sZxPDDp5"
      }
    },
    {
      "cell_type": "code",
      "source": [
        "# Performing binary encoding on the categorical features.\n",
        "!pip install category_encoders\n",
        "import category_encoders as ce\n",
        "categorical_features = ['srcip', 'sport', 'dstip', 'dsport', 'proto', 'state', 'service', 'ct_ftp_cmd']\n",
        "df_binary = df[categorical_features].join(df['label'])\n",
        "binary_encoder = ce.BinaryEncoder()\n",
        "df_binary = binary_encoder.fit_transform(df_binary)"
      ],
      "metadata": {
        "colab": {
          "base_uri": "https://localhost:8080/"
        },
        "id": "xHfOCnI7DqRa",
        "outputId": "a906b925-79d9-4471-f2df-628101091b11"
      },
      "execution_count": null,
      "outputs": [
        {
          "output_type": "stream",
          "name": "stdout",
          "text": [
            "Looking in indexes: https://pypi.org/simple, https://us-python.pkg.dev/colab-wheels/public/simple/\n",
            "Collecting category_encoders\n",
            "  Downloading category_encoders-2.5.1.post0-py2.py3-none-any.whl (72 kB)\n",
            "\u001b[2K     \u001b[90m━━━━━━━━━━━━━━━━━━━━━━━━━━━━━━━━━━━━━━━━\u001b[0m \u001b[32m72.4/72.4 KB\u001b[0m \u001b[31m3.2 MB/s\u001b[0m eta \u001b[36m0:00:00\u001b[0m\n",
            "\u001b[?25hRequirement already satisfied: pandas>=1.0.5 in /usr/local/lib/python3.8/dist-packages (from category_encoders) (1.3.5)\n",
            "Requirement already satisfied: scikit-learn>=0.20.0 in /usr/local/lib/python3.8/dist-packages (from category_encoders) (1.0.2)\n",
            "Requirement already satisfied: scipy>=1.0.0 in /usr/local/lib/python3.8/dist-packages (from category_encoders) (1.7.3)\n",
            "Requirement already satisfied: statsmodels>=0.9.0 in /usr/local/lib/python3.8/dist-packages (from category_encoders) (0.12.2)\n",
            "Requirement already satisfied: patsy>=0.5.1 in /usr/local/lib/python3.8/dist-packages (from category_encoders) (0.5.3)\n",
            "Requirement already satisfied: numpy>=1.14.0 in /usr/local/lib/python3.8/dist-packages (from category_encoders) (1.21.6)\n",
            "Requirement already satisfied: pytz>=2017.3 in /usr/local/lib/python3.8/dist-packages (from pandas>=1.0.5->category_encoders) (2022.7)\n",
            "Requirement already satisfied: python-dateutil>=2.7.3 in /usr/local/lib/python3.8/dist-packages (from pandas>=1.0.5->category_encoders) (2.8.2)\n",
            "Requirement already satisfied: six in /usr/local/lib/python3.8/dist-packages (from patsy>=0.5.1->category_encoders) (1.15.0)\n",
            "Requirement already satisfied: joblib>=0.11 in /usr/local/lib/python3.8/dist-packages (from scikit-learn>=0.20.0->category_encoders) (1.2.0)\n",
            "Requirement already satisfied: threadpoolctl>=2.0.0 in /usr/local/lib/python3.8/dist-packages (from scikit-learn>=0.20.0->category_encoders) (3.1.0)\n",
            "Installing collected packages: category_encoders\n",
            "Successfully installed category_encoders-2.5.1.post0\n"
          ]
        }
      ]
    },
    {
      "cell_type": "code",
      "source": [
        "# Normalize the features using z-score normalization.\n",
        "df_categorical = df_binary.drop(labels = 'label', axis = 1)\n",
        "df_categorical =(df_categorical - df_categorical.astype('float32').mean())/(df_categorical.astype('float32').std())\n",
        "y = df_binary.label\n",
        "x = df_categorical\n",
        "X_train, X_test, y_train, y_test = train_test_split(x, y, test_size=0.33, random_state=42)"
      ],
      "metadata": {
        "id": "5TfKnt7dHYvg"
      },
      "execution_count": null,
      "outputs": []
    },
    {
      "cell_type": "markdown",
      "source": [
        "Creating a logistic regression model:"
      ],
      "metadata": {
        "id": "PXr_K7B1HgY0"
      }
    },
    {
      "cell_type": "code",
      "source": [
        "# Creating the model.\n",
        "log_reg_categorical = LogisticRegression(solver = 'lbfgs')\n",
        "log_reg_categorical.fit(X_train, y_train)"
      ],
      "metadata": {
        "colab": {
          "base_uri": "https://localhost:8080/"
        },
        "id": "vFbhvO1XHc1x",
        "outputId": "72b64fd1-57d5-452b-ec9b-1430d6d16b7a"
      },
      "execution_count": null,
      "outputs": [
        {
          "output_type": "stream",
          "name": "stderr",
          "text": [
            "/usr/local/lib/python3.8/dist-packages/sklearn/linear_model/_logistic.py:814: ConvergenceWarning: lbfgs failed to converge (status=1):\n",
            "STOP: TOTAL NO. of ITERATIONS REACHED LIMIT.\n",
            "\n",
            "Increase the number of iterations (max_iter) or scale the data as shown in:\n",
            "    https://scikit-learn.org/stable/modules/preprocessing.html\n",
            "Please also refer to the documentation for alternative solver options:\n",
            "    https://scikit-learn.org/stable/modules/linear_model.html#logistic-regression\n",
            "  n_iter_i = _check_optimize_result(\n"
          ]
        },
        {
          "output_type": "execute_result",
          "data": {
            "text/plain": [
              "LogisticRegression()"
            ]
          },
          "metadata": {},
          "execution_count": 74
        }
      ]
    },
    {
      "cell_type": "code",
      "source": [
        "# Getting the accuracy of this model.\n",
        "log_reg_categorical.score(X_test, y_test)"
      ],
      "metadata": {
        "colab": {
          "base_uri": "https://localhost:8080/"
        },
        "id": "IHAc1wDiHjBJ",
        "outputId": "13d3d401-ce43-43e4-c897-e06a9a73889b"
      },
      "execution_count": null,
      "outputs": [
        {
          "output_type": "execute_result",
          "data": {
            "text/plain": [
              "0.992229621957127"
            ]
          },
          "metadata": {},
          "execution_count": 75
        }
      ]
    },
    {
      "cell_type": "code",
      "source": [
        "# Confusion matrix.\n",
        "y_pred = log_reg_categorical.predict(X_test)\n",
        "cm = confusion_matrix(y_test, y_pred)\n",
        "cm_df = pd.DataFrame(cm, columns=['Predicted Positive', 'Predicted Negative'], index=['Actual Positive', 'Actual Negative'])\n",
        "print(cm_df)"
      ],
      "metadata": {
        "colab": {
          "base_uri": "https://localhost:8080/"
        },
        "id": "kJoism2EHlbV",
        "outputId": "7afff9f4-7cab-4247-e48c-73ad3b7b84f7"
      },
      "execution_count": null,
      "outputs": [
        {
          "output_type": "stream",
          "name": "stdout",
          "text": [
            "                 Predicted Positive  Predicted Negative\n",
            "Actual Positive              245670                 825\n",
            "Actual Negative                1148                6270\n"
          ]
        }
      ]
    },
    {
      "cell_type": "markdown",
      "source": [
        "Creating a decison tree model:"
      ],
      "metadata": {
        "id": "ZVzGN9K1Hl2l"
      }
    },
    {
      "cell_type": "code",
      "source": [
        "# Creating the model.\n",
        "decision_tree_categorical = DecisionTreeClassifier()\n",
        "decision_tree_categorical.fit(X_train, y_train)"
      ],
      "metadata": {
        "colab": {
          "base_uri": "https://localhost:8080/"
        },
        "id": "4wgKHeAVHnW2",
        "outputId": "1f523edc-21f3-4769-9976-f2c7a864fa64"
      },
      "execution_count": null,
      "outputs": [
        {
          "output_type": "execute_result",
          "data": {
            "text/plain": [
              "DecisionTreeClassifier()"
            ]
          },
          "metadata": {},
          "execution_count": 77
        }
      ]
    },
    {
      "cell_type": "code",
      "source": [
        "# Getting the accuracy of decision tree model.\n",
        "decision_tree_categorical.score(X_test, y_test)"
      ],
      "metadata": {
        "colab": {
          "base_uri": "https://localhost:8080/"
        },
        "id": "CIqk213-Hpls",
        "outputId": "7c1bae17-fd7d-4554-ea7a-8d0d3b78c1de"
      },
      "execution_count": null,
      "outputs": [
        {
          "output_type": "execute_result",
          "data": {
            "text/plain": [
              "0.997573972187324"
            ]
          },
          "metadata": {},
          "execution_count": 78
        }
      ]
    },
    {
      "cell_type": "code",
      "source": [
        "# Confusion matrix.\n",
        "y_pred = decision_tree_categorical.predict(X_test)\n",
        "cm = confusion_matrix(y_test, y_pred)\n",
        "cm_df = pd.DataFrame(cm, columns=['Predicted Positive', 'Predicted Negative'], index=['Actual Positive', 'Actual Negative'])\n",
        "print(cm_df)"
      ],
      "metadata": {
        "colab": {
          "base_uri": "https://localhost:8080/"
        },
        "id": "wUYlBFXRHq0v",
        "outputId": "1d5e1a4e-7be8-4ece-8824-0b3403f191d6"
      },
      "execution_count": null,
      "outputs": [
        {
          "output_type": "stream",
          "name": "stdout",
          "text": [
            "                 Predicted Positive  Predicted Negative\n",
            "Actual Positive              246181                 314\n",
            "Actual Negative                 302                7116\n"
          ]
        }
      ]
    },
    {
      "cell_type": "markdown",
      "source": [
        "Creating a random forest model of 70 trees:"
      ],
      "metadata": {
        "id": "zQgGMQ_9HsP4"
      }
    },
    {
      "cell_type": "code",
      "source": [
        "# Creates random forest model.\n",
        "from sklearn.ensemble import RandomForestClassifier\n",
        "random_forest_categorical = RandomForestClassifier(n_estimators = 70)\n",
        "random_forest_categorical.fit(X_train, y_train)"
      ],
      "metadata": {
        "colab": {
          "base_uri": "https://localhost:8080/"
        },
        "id": "2i9yzHZZHteY",
        "outputId": "7ab7ecfa-c814-482b-c764-63604578c7ec"
      },
      "execution_count": null,
      "outputs": [
        {
          "output_type": "execute_result",
          "data": {
            "text/plain": [
              "RandomForestClassifier(n_estimators=70)"
            ]
          },
          "metadata": {},
          "execution_count": 80
        }
      ]
    },
    {
      "cell_type": "code",
      "source": [
        "# Gets accuracy of random forest model.\n",
        "random_forest_categorical.score(X_test, y_test)"
      ],
      "metadata": {
        "colab": {
          "base_uri": "https://localhost:8080/"
        },
        "id": "tK0Esv9OHujd",
        "outputId": "5434b2ac-4f3b-4da4-a8c7-4dd14fc8aa17"
      },
      "execution_count": null,
      "outputs": [
        {
          "output_type": "execute_result",
          "data": {
            "text/plain": [
              "0.9979087325186186"
            ]
          },
          "metadata": {},
          "execution_count": 81
        }
      ]
    },
    {
      "cell_type": "code",
      "source": [
        "# Confusion matrix.\n",
        "y_pred = random_forest_categorical.predict(X_test)\n",
        "cm = confusion_matrix(y_test, y_pred)\n",
        "cm_df = pd.DataFrame(cm, columns=['Predicted Positive', 'Predicted Negative'], index=['Actual Positive', 'Actual Negative'])\n",
        "print(cm_df)"
      ],
      "metadata": {
        "colab": {
          "base_uri": "https://localhost:8080/"
        },
        "id": "5dvFSAGpHvu4",
        "outputId": "ced83bf4-3580-44ae-c4fd-11b0016c3e12"
      },
      "execution_count": null,
      "outputs": [
        {
          "output_type": "stream",
          "name": "stdout",
          "text": [
            "                 Predicted Positive  Predicted Negative\n",
            "Actual Positive              246233                 262\n",
            "Actual Negative                 269                7149\n"
          ]
        }
      ]
    },
    {
      "cell_type": "markdown",
      "source": [
        "# Numerical and Categorical Features:"
      ],
      "metadata": {
        "id": "GfWkMRfEN3ia"
      }
    },
    {
      "cell_type": "markdown",
      "source": [
        "Creating the testing/training data with normalization:"
      ],
      "metadata": {
        "id": "1e59y8lAI7TI"
      }
    },
    {
      "cell_type": "code",
      "source": [
        "# Joining the categorical features and numerical features together to create the final dataframe.\n",
        "df_numerical = df[numerical_features]\n",
        "df_final = df_numerical.join(df_binary)"
      ],
      "metadata": {
        "id": "7SpFUFVROCzF"
      },
      "execution_count": null,
      "outputs": []
    },
    {
      "cell_type": "code",
      "source": [
        "# Creating the training/testing data by normalizing the features using z-score normalization.\n",
        "df_both = df_final.drop(labels = 'label', axis = 1)\n",
        "df_both =(df_both - df_both.astype('float32').mean())/(df_both.astype('float32').std())\n",
        "y = df_final.label\n",
        "x = df_both\n",
        "X_train, X_test, y_train, y_test = train_test_split(x, y, test_size=0.33, random_state=42)"
      ],
      "metadata": {
        "id": "Spd58UbuJLdr"
      },
      "execution_count": null,
      "outputs": []
    },
    {
      "cell_type": "markdown",
      "source": [
        "Creating the logistic regression model:"
      ],
      "metadata": {
        "id": "jxKkeKjwJgzq"
      }
    },
    {
      "cell_type": "code",
      "source": [
        "# Creating the model.\n",
        "log_reg_final = LogisticRegression(solver = 'lbfgs')\n",
        "log_reg_final.fit(X_train, y_train)"
      ],
      "metadata": {
        "colab": {
          "base_uri": "https://localhost:8080/"
        },
        "id": "mxJPSkaRJiRg",
        "outputId": "edf0c394-f2ae-46e2-e7e0-43b9743ea315"
      },
      "execution_count": null,
      "outputs": [
        {
          "output_type": "stream",
          "name": "stderr",
          "text": [
            "/usr/local/lib/python3.8/dist-packages/sklearn/linear_model/_logistic.py:814: ConvergenceWarning: lbfgs failed to converge (status=1):\n",
            "STOP: TOTAL NO. of ITERATIONS REACHED LIMIT.\n",
            "\n",
            "Increase the number of iterations (max_iter) or scale the data as shown in:\n",
            "    https://scikit-learn.org/stable/modules/preprocessing.html\n",
            "Please also refer to the documentation for alternative solver options:\n",
            "    https://scikit-learn.org/stable/modules/linear_model.html#logistic-regression\n",
            "  n_iter_i = _check_optimize_result(\n"
          ]
        },
        {
          "output_type": "execute_result",
          "data": {
            "text/plain": [
              "LogisticRegression()"
            ]
          },
          "metadata": {},
          "execution_count": 84
        }
      ]
    },
    {
      "cell_type": "code",
      "source": [
        "# Getting the accuracy of this model.\n",
        "log_reg_final.score(X_test, y_test)"
      ],
      "metadata": {
        "colab": {
          "base_uri": "https://localhost:8080/"
        },
        "id": "tvkIqUloJkc-",
        "outputId": "aaa8d2ef-cbf1-469c-9f66-6bb4dd5d496f"
      },
      "execution_count": null,
      "outputs": [
        {
          "output_type": "execute_result",
          "data": {
            "text/plain": [
              "0.9961955472937581"
            ]
          },
          "metadata": {},
          "execution_count": 85
        }
      ]
    },
    {
      "cell_type": "code",
      "source": [
        "# Confusion matrix.\n",
        "y_pred = log_reg_final.predict(X_test)\n",
        "cm = confusion_matrix(y_test, y_pred)\n",
        "cm_df = pd.DataFrame(cm, columns=['Predicted Positive', 'Predicted Negative'], index=['Actual Positive', 'Actual Negative'])\n",
        "print(cm_df)"
      ],
      "metadata": {
        "colab": {
          "base_uri": "https://localhost:8080/"
        },
        "id": "Fg4DhXQ_JmNV",
        "outputId": "6f24ebf4-4af5-4f34-b076-499e40d7e3b1"
      },
      "execution_count": null,
      "outputs": [
        {
          "output_type": "stream",
          "name": "stdout",
          "text": [
            "                 Predicted Positive  Predicted Negative\n",
            "Actual Positive              245883                 612\n",
            "Actual Negative                 354                7064\n"
          ]
        }
      ]
    },
    {
      "cell_type": "markdown",
      "source": [
        "Creating the decision tree model:"
      ],
      "metadata": {
        "id": "30xmXsw_JnrC"
      }
    },
    {
      "cell_type": "code",
      "source": [
        "# Creating the model.\n",
        "decision_tree_final = DecisionTreeClassifier()\n",
        "decision_tree_final.fit(X_train, y_train)"
      ],
      "metadata": {
        "colab": {
          "base_uri": "https://localhost:8080/"
        },
        "id": "vfp14ZRLJoxs",
        "outputId": "d1b9fff2-cb28-4eff-c11d-0a68f3bf788e"
      },
      "execution_count": null,
      "outputs": [
        {
          "output_type": "execute_result",
          "data": {
            "text/plain": [
              "DecisionTreeClassifier()"
            ]
          },
          "metadata": {},
          "execution_count": 87
        }
      ]
    },
    {
      "cell_type": "code",
      "source": [
        "# Getting the accuracy of decision tree model.\n",
        "decision_tree_final.score(X_test, y_test)"
      ],
      "metadata": {
        "colab": {
          "base_uri": "https://localhost:8080/"
        },
        "id": "WG-c-IF_JqHq",
        "outputId": "c3acf271-2406-4af9-b22a-59a779cc13f9"
      },
      "execution_count": null,
      "outputs": [
        {
          "output_type": "execute_result",
          "data": {
            "text/plain": [
              "0.9989208902261798"
            ]
          },
          "metadata": {},
          "execution_count": 88
        }
      ]
    },
    {
      "cell_type": "code",
      "source": [
        "# Confusion matrix.\n",
        "y_pred = decision_tree_final.predict(X_test)\n",
        "cm = confusion_matrix(y_test, y_pred)\n",
        "cm_df = pd.DataFrame(cm, columns=['Predicted Positive', 'Predicted Negative'], index=['Actual Positive', 'Actual Negative'])\n",
        "print(cm_df)"
      ],
      "metadata": {
        "colab": {
          "base_uri": "https://localhost:8080/"
        },
        "id": "L_NyF5Q1JrMQ",
        "outputId": "bea868fe-9e03-42b7-848e-a38c8f5e687b"
      },
      "execution_count": null,
      "outputs": [
        {
          "output_type": "stream",
          "name": "stdout",
          "text": [
            "                 Predicted Positive  Predicted Negative\n",
            "Actual Positive              246347                 148\n",
            "Actual Negative                 126                7292\n"
          ]
        }
      ]
    },
    {
      "cell_type": "markdown",
      "source": [
        "Creating the random forest model using 70 trees:"
      ],
      "metadata": {
        "id": "mb82jnA0JscA"
      }
    },
    {
      "cell_type": "code",
      "source": [
        "# Creates random forest model.\n",
        "random_forest_final = RandomForestClassifier(n_estimators = 70)\n",
        "random_forest_final.fit(X_train, y_train)"
      ],
      "metadata": {
        "colab": {
          "base_uri": "https://localhost:8080/"
        },
        "id": "RyVEaKCVJzte",
        "outputId": "4895163d-9e8a-4961-b42c-c6af16aa1dd8"
      },
      "execution_count": null,
      "outputs": [
        {
          "output_type": "execute_result",
          "data": {
            "text/plain": [
              "RandomForestClassifier(n_estimators=70)"
            ]
          },
          "metadata": {},
          "execution_count": 90
        }
      ]
    },
    {
      "cell_type": "code",
      "source": [
        "# Gets accuracy of random forest model.\n",
        "random_forest_final.score(X_test, y_test)"
      ],
      "metadata": {
        "colab": {
          "base_uri": "https://localhost:8080/"
        },
        "id": "XV8FAB8oJ06X",
        "outputId": "14f4f1a6-1d26-4e4d-8e07-f288e1e9fec6"
      },
      "execution_count": null,
      "outputs": [
        {
          "output_type": "execute_result",
          "data": {
            "text/plain": [
              "0.9990587327155365"
            ]
          },
          "metadata": {},
          "execution_count": 91
        }
      ]
    },
    {
      "cell_type": "code",
      "source": [
        "# Confusion matrix.\n",
        "y_pred = random_forest_final.predict(X_test)\n",
        "cm = confusion_matrix(y_test, y_pred)\n",
        "cm_df = pd.DataFrame(cm, columns=['Predicted Positive', 'Predicted Negative'], index=['Actual Positive', 'Actual Negative'])\n",
        "print(cm_df)"
      ],
      "metadata": {
        "colab": {
          "base_uri": "https://localhost:8080/"
        },
        "id": "8V7046m_J1_P",
        "outputId": "87825ec9-4c8b-446d-9458-b4a8e43c167a"
      },
      "execution_count": null,
      "outputs": [
        {
          "output_type": "stream",
          "name": "stdout",
          "text": [
            "                 Predicted Positive  Predicted Negative\n",
            "Actual Positive              246312                 183\n",
            "Actual Negative                  56                7362\n"
          ]
        }
      ]
    }
  ]
}