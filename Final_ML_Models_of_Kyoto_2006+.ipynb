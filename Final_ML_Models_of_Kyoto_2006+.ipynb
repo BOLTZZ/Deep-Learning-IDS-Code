{
  "nbformat": 4,
  "nbformat_minor": 0,
  "metadata": {
    "colab": {
      "provenance": [],
      "machine_shape": "hm",
      "include_colab_link": true
    },
    "kernelspec": {
      "name": "python3",
      "display_name": "Python 3"
    },
    "language_info": {
      "name": "python"
    },
    "accelerator": "GPU",
    "gpuClass": "premium"
  },
  "cells": [
    {
      "cell_type": "markdown",
      "metadata": {
        "id": "view-in-github",
        "colab_type": "text"
      },
      "source": [
        "<a href=\"https://colab.research.google.com/github/BOLTZZ/Novel-Deep-Learning-IDS-Code/blob/main/Final_ML_Models_of_Kyoto_2006%2B.ipynb\" target=\"_parent\"><img src=\"https://colab.research.google.com/assets/colab-badge.svg\" alt=\"Open In Colab\"/></a>"
      ]
    },
    {
      "cell_type": "markdown",
      "source": [
        "# Data Pre-Processing:"
      ],
      "metadata": {
        "id": "BHnQT_-GXjg4"
      }
    },
    {
      "cell_type": "code",
      "source": [
        "# Importing the formatted dataset from a google drive.\n",
        "!pip install --upgrade --no-cache-dir gdown\n",
        "!gdown https://drive.google.com/uc?id=1D2_7bHpqPfh_Nf3nxCzkj-BBjVEFRgiP"
      ],
      "metadata": {
        "id": "JBW5e-EDXvCt"
      },
      "execution_count": null,
      "outputs": []
    },
    {
      "cell_type": "code",
      "source": [
        "# Converting the csv file to a dataframe.\n",
        "import pandas as pd\n",
        "df = pd.read_csv(\"2007data.csv\")"
      ],
      "metadata": {
        "id": "ud0h2YVqXv-0"
      },
      "execution_count": null,
      "outputs": []
    },
    {
      "cell_type": "code",
      "source": [
        "# Since the data is so large, we'll be essentially \"boostrapping\" without replacement by using test_train_split. We'll be selecting ~ 5 million datapoints out of the ~ 26 million datapoints.\n",
        "y = df.Label\n",
        "x = df.drop(labels = ['Label', 'Unnamed: 0'], axis = 1)\n",
        "from sklearn.model_selection import train_test_split\n",
        "X_train, X_test, y_train, y_test = train_test_split(x, y, test_size=0.2, random_state=42)\n",
        "df = X_test.join(y_test.to_frame())\n",
        "print(len(df))"
      ],
      "metadata": {
        "id": "KZf04DcsX12m"
      },
      "execution_count": null,
      "outputs": []
    },
    {
      "cell_type": "markdown",
      "source": [
        "# Numerical Features:"
      ],
      "metadata": {
        "id": "LdvOnFbsW5in"
      }
    },
    {
      "cell_type": "markdown",
      "source": [
        "Creating the testing and training data with normalization:"
      ],
      "metadata": {
        "id": "lu8GoXjoo-AZ"
      }
    },
    {
      "cell_type": "code",
      "source": [
        "# Creating the testing/training data by normalizing the features using z-score normalization.\n",
        "numerical_features = ['duration', 'source_bytes', 'dest_bytes', 'count', 'Same_srv_rate', 'Serror_rate', 'Srv_serror', 'Dst_host_count', 'Dst_host_srv_count', 'Dst_host_same_src_port_rate', 'Dst_host_serror_rate', 'Dst_hostsrv_serror_rate', 'Source_port_number', 'Dest_port_number']\n",
        "df_numerical = df[numerical_features]\n",
        "df_numerical =(df_numerical - df_numerical.astype('float32').mean())/(df_numerical.astype('float32').std())\n",
        "y = df.Label\n",
        "x = df_numerical\n",
        "X_train, X_test, y_train, y_test = train_test_split(x, y, test_size=0.33, random_state=42)"
      ],
      "metadata": {
        "id": "cgehmXHdhOzv"
      },
      "execution_count": null,
      "outputs": []
    },
    {
      "cell_type": "markdown",
      "source": [
        "Creating a logistic regression model:"
      ],
      "metadata": {
        "id": "sftRLZLxXx0A"
      }
    },
    {
      "cell_type": "code",
      "source": [
        "# Creating the model.\n",
        "from sklearn.linear_model import LogisticRegression\n",
        "log_reg_numerical = LogisticRegression(solver = 'sag')\n",
        "log_reg_numerical.fit(X_train, y_train)"
      ],
      "metadata": {
        "id": "sN9l2iWT2jLJ"
      },
      "execution_count": null,
      "outputs": []
    },
    {
      "cell_type": "code",
      "source": [
        "# Getting the accuracy of this model.\n",
        "log_reg_numerical.score(X_test, y_test)"
      ],
      "metadata": {
        "id": "W1akso-729TP"
      },
      "execution_count": null,
      "outputs": []
    },
    {
      "cell_type": "code",
      "source": [
        "# Confusion matrix.\n",
        "from sklearn.metrics import confusion_matrix\n",
        "y_pred = log_reg_numerical.predict(X_test)\n",
        "cm = confusion_matrix(y_test, y_pred)\n",
        "cm_df = pd.DataFrame(cm, columns=['Predicted Positive', 'Predicted Negative'], index=['Actual Positive', 'Actual Negative'])\n",
        "print(cm_df)"
      ],
      "metadata": {
        "id": "bocbaAdJ7oOK"
      },
      "execution_count": null,
      "outputs": []
    },
    {
      "cell_type": "markdown",
      "source": [
        "Creating a decision tree model:"
      ],
      "metadata": {
        "id": "pR2h7Zj389oN"
      }
    },
    {
      "cell_type": "code",
      "source": [
        "# Creating the model.\n",
        "from sklearn.tree import DecisionTreeClassifier\n",
        "decision_tree_numerical = DecisionTreeClassifier()\n",
        "decision_tree_numerical.fit(X_train, y_train)"
      ],
      "metadata": {
        "id": "ipmkzWkN-CTa"
      },
      "execution_count": null,
      "outputs": []
    },
    {
      "cell_type": "code",
      "source": [
        "# Getting the accuracy of decision tree model.\n",
        "decision_tree_numerical.score(X_test, y_test)"
      ],
      "metadata": {
        "id": "jxJERjkd9Bsy"
      },
      "execution_count": null,
      "outputs": []
    },
    {
      "cell_type": "code",
      "source": [
        "# Confusion matrix.\n",
        "y_pred = decision_tree_numerical.predict(X_test)\n",
        "cm = confusion_matrix(y_test, y_pred)\n",
        "cm_df = pd.DataFrame(cm, columns=['Predicted Positive', 'Predicted Negative'], index=['Actual Positive', 'Actual Negative'])\n",
        "print(cm_df)"
      ],
      "metadata": {
        "id": "JR8MkFNi-yE-"
      },
      "execution_count": null,
      "outputs": []
    },
    {
      "cell_type": "markdown",
      "source": [
        "Creating a random forest model of 70 trees:"
      ],
      "metadata": {
        "id": "cndiV14V_Nd_"
      }
    },
    {
      "cell_type": "code",
      "source": [
        "# Creates random forest model.\n",
        "from sklearn.ensemble import RandomForestClassifier\n",
        "random_forest_numerical = RandomForestClassifier(n_estimators = 70)\n",
        "random_forest_numerical.fit(X_train, y_train)"
      ],
      "metadata": {
        "id": "tllmmY3m_Sc1"
      },
      "execution_count": null,
      "outputs": []
    },
    {
      "cell_type": "code",
      "source": [
        "# Gets accuracy of random forest model.\n",
        "random_forest_numerical.score(X_test, y_test)"
      ],
      "metadata": {
        "id": "L4D4OuRZ_tQB"
      },
      "execution_count": null,
      "outputs": []
    },
    {
      "cell_type": "code",
      "source": [
        "# Confusion matrix.\n",
        "y_pred = random_forest_numerical.predict(X_test)\n",
        "cm = confusion_matrix(y_test, y_pred)\n",
        "cm_df = pd.DataFrame(cm, columns=['Predicted Positive', 'Predicted Negative'], index=['Actual Positive', 'Actual Negative'])\n",
        "print(cm_df)"
      ],
      "metadata": {
        "id": "pJGfbaPI_yVn"
      },
      "execution_count": null,
      "outputs": []
    },
    {
      "cell_type": "markdown",
      "source": [
        "# Categorical Features:"
      ],
      "metadata": {
        "id": "eEQDyrsdXH6o"
      }
    },
    {
      "cell_type": "markdown",
      "source": [
        "Creating the testing/training data with normalization and binary encoding:"
      ],
      "metadata": {
        "id": "0qPZEERTASgS"
      }
    },
    {
      "cell_type": "code",
      "source": [
        "# Performing binary encoding on the categorical features.\n",
        "!pip install category_encoders\n",
        "import category_encoders as ce\n",
        "categorical_features = ['service', 'Flag', 'IDS_detection', 'Malware_detection', 'Ashula_detection', 'Source_IP_addr', 'Dest_IP_addr', 'Start_time', 'Protocol']\n",
        "df_binary = df[categorical_features].join(df['Label'])\n",
        "binary_encoder = ce.BinaryEncoder()\n",
        "df_binary = binary_encoder.fit_transform(df_binary)"
      ],
      "metadata": {
        "id": "GQ59_4a9Ad6L"
      },
      "execution_count": null,
      "outputs": []
    },
    {
      "cell_type": "code",
      "source": [
        "# Normalize the features using z-score normalization.\n",
        "df_categorical = df_binary.drop(labels = 'Label', axis = 1)\n",
        "df_categorical =(df_categorical - df_categorical.astype('float32').mean())/(df_categorical.astype('float32').std())\n",
        "y = df_binary.Label\n",
        "x = df_categorical\n",
        "X_train, X_test, y_train, y_test = train_test_split(x, y, test_size=0.33, random_state=42)"
      ],
      "metadata": {
        "id": "EWb9SR0PCIty"
      },
      "execution_count": null,
      "outputs": []
    },
    {
      "cell_type": "markdown",
      "source": [
        "Creating a logistic regression model:"
      ],
      "metadata": {
        "id": "fVG9jxiCCOx3"
      }
    },
    {
      "cell_type": "code",
      "source": [
        "# Creating the model.\n",
        "log_reg_categorical = LogisticRegression(solver = 'lbfgs')\n",
        "log_reg_categorical.fit(X_train, y_train)"
      ],
      "metadata": {
        "id": "R5zmqz69CZ9O"
      },
      "execution_count": null,
      "outputs": []
    },
    {
      "cell_type": "code",
      "source": [
        "# Getting the accuracy of this model.\n",
        "log_reg_categorical.score(X_test, y_test)"
      ],
      "metadata": {
        "id": "i88h-_ziCoaF"
      },
      "execution_count": null,
      "outputs": []
    },
    {
      "cell_type": "code",
      "source": [
        "# Confusion matrix.\n",
        "y_pred = log_reg_categorical.predict(X_test)\n",
        "cm = confusion_matrix(y_test, y_pred)\n",
        "cm_df = pd.DataFrame(cm, columns=['Predicted Positive', 'Predicted Negative'], index=['Actual Positive', 'Actual Negative'])\n",
        "print(cm_df)"
      ],
      "metadata": {
        "id": "uZLiS7dyCozD"
      },
      "execution_count": null,
      "outputs": []
    },
    {
      "cell_type": "markdown",
      "source": [
        "Creating a decison tree model:"
      ],
      "metadata": {
        "id": "ZuyK7TOMCtDL"
      }
    },
    {
      "cell_type": "code",
      "source": [
        "# Creating the model.\n",
        "decision_tree_categorical = DecisionTreeClassifier()\n",
        "decision_tree_categorical.fit(X_train, y_train)"
      ],
      "metadata": {
        "id": "4lnlD302CvZW"
      },
      "execution_count": null,
      "outputs": []
    },
    {
      "cell_type": "code",
      "source": [
        "# Getting the accuracy of decision tree model.\n",
        "decision_tree_categorical.score(X_test, y_test)"
      ],
      "metadata": {
        "id": "JRac7Sj2Da5J"
      },
      "execution_count": null,
      "outputs": []
    },
    {
      "cell_type": "code",
      "source": [
        "# Confusion matrix.\n",
        "y_pred = decision_tree_categorical.predict(X_test)\n",
        "cm = confusion_matrix(y_test, y_pred)\n",
        "cm_df = pd.DataFrame(cm, columns=['Predicted Positive', 'Predicted Negative'], index=['Actual Positive', 'Actual Negative'])\n",
        "print(cm_df)"
      ],
      "metadata": {
        "id": "GdF8ekhxFJZC"
      },
      "execution_count": null,
      "outputs": []
    },
    {
      "cell_type": "markdown",
      "source": [
        "Creating a random forest model of 70 trees:"
      ],
      "metadata": {
        "id": "YEaKkU9kFTbo"
      }
    },
    {
      "cell_type": "code",
      "source": [
        "# Creates random forest model.\n",
        "from sklearn.ensemble import RandomForestClassifier\n",
        "random_forest_categorical = RandomForestClassifier(n_estimators = 70)\n",
        "random_forest_categorical.fit(X_train, y_train)"
      ],
      "metadata": {
        "id": "Wx9otrRKFX0h"
      },
      "execution_count": null,
      "outputs": []
    },
    {
      "cell_type": "code",
      "source": [
        "# Gets accuracy of random forest model.\n",
        "random_forest_categorical.score(X_test, y_test)"
      ],
      "metadata": {
        "id": "uuAGhR6cFe2k"
      },
      "execution_count": null,
      "outputs": []
    },
    {
      "cell_type": "code",
      "source": [
        "# Confusion matrix.\n",
        "y_pred = random_forest_categorical.predict(X_test)\n",
        "cm = confusion_matrix(y_test, y_pred)\n",
        "cm_df = pd.DataFrame(cm, columns=['Predicted Positive', 'Predicted Negative'], index=['Actual Positive', 'Actual Negative'])\n",
        "print(cm_df)"
      ],
      "metadata": {
        "id": "gFGPKrMAFiK3"
      },
      "execution_count": null,
      "outputs": []
    },
    {
      "cell_type": "markdown",
      "source": [
        "# Numerical and Categorical Features:"
      ],
      "metadata": {
        "id": "vLzgXSNPXK_q"
      }
    },
    {
      "cell_type": "markdown",
      "source": [
        "Creating the testing/training data with normalization:"
      ],
      "metadata": {
        "id": "GsVPBsZTF9M8"
      }
    },
    {
      "cell_type": "code",
      "source": [
        "# Joining the categorical features and numerical features together to create the final dataframe.\n",
        "df_numerical = df[numerical_features]\n",
        "df_final = df_numerical.join(df_binary)"
      ],
      "metadata": {
        "id": "NKwgnvkKGDh_"
      },
      "execution_count": null,
      "outputs": []
    },
    {
      "cell_type": "code",
      "source": [
        "# Creating the training/testing data by normalizing the features using z-score normalization.\n",
        "df_both = df_final.drop(labels = 'Label', axis = 1)\n",
        "df_both =(df_both - df_both.astype('float32').mean())/(df_both.astype('float32').std())\n",
        "y = df_final.Label\n",
        "x = df_both\n",
        "X_train, X_test, y_train, y_test = train_test_split(x, y, test_size=0.33, random_state=42)"
      ],
      "metadata": {
        "id": "9hn1qx9KHCSG"
      },
      "execution_count": null,
      "outputs": []
    },
    {
      "cell_type": "markdown",
      "source": [
        "Creating the logistic regression model:"
      ],
      "metadata": {
        "id": "TVANSZBII2Up"
      }
    },
    {
      "cell_type": "code",
      "source": [
        "# Creating the model.\n",
        "log_reg_final = LogisticRegression(solver = 'lbfgs')\n",
        "log_reg_final.fit(X_train, y_train)"
      ],
      "metadata": {
        "id": "Ip6fwN_EI6Ct"
      },
      "execution_count": null,
      "outputs": []
    },
    {
      "cell_type": "code",
      "source": [
        "# Getting the accuracy of this model.\n",
        "log_reg_final.score(X_test, y_test)"
      ],
      "metadata": {
        "id": "M16zNTyGI_id"
      },
      "execution_count": null,
      "outputs": []
    },
    {
      "cell_type": "code",
      "source": [
        "# Confusion matrix.\n",
        "y_pred = log_reg_final.predict(X_test)\n",
        "cm = confusion_matrix(y_test, y_pred)\n",
        "cm_df = pd.DataFrame(cm, columns=['Predicted Positive', 'Predicted Negative'], index=['Actual Positive', 'Actual Negative'])\n",
        "print(cm_df)"
      ],
      "metadata": {
        "id": "2ihd-PisJBg1"
      },
      "execution_count": null,
      "outputs": []
    },
    {
      "cell_type": "markdown",
      "source": [
        "Creating the decision tree model:"
      ],
      "metadata": {
        "id": "qplxa9H-JGah"
      }
    },
    {
      "cell_type": "code",
      "source": [
        "# Creating the model.\n",
        "decision_tree_final = DecisionTreeClassifier()\n",
        "decision_tree_final.fit(X_train, y_train)"
      ],
      "metadata": {
        "id": "nrGFC8RkJH-s"
      },
      "execution_count": null,
      "outputs": []
    },
    {
      "cell_type": "code",
      "source": [
        "# Getting the accuracy of decision tree model.\n",
        "decision_tree_final.score(X_test, y_test)"
      ],
      "metadata": {
        "id": "3trh22ugJLJd"
      },
      "execution_count": null,
      "outputs": []
    },
    {
      "cell_type": "code",
      "source": [
        "# Confusion matrix.\n",
        "y_pred = decision_tree_final.predict(X_test)\n",
        "cm = confusion_matrix(y_test, y_pred)\n",
        "cm_df = pd.DataFrame(cm, columns=['Predicted Positive', 'Predicted Negative'], index=['Actual Positive', 'Actual Negative'])\n",
        "print(cm_df)"
      ],
      "metadata": {
        "id": "kmeKylAoJM1E"
      },
      "execution_count": null,
      "outputs": []
    },
    {
      "cell_type": "markdown",
      "source": [
        "Creating the random forest model using 70 trees:"
      ],
      "metadata": {
        "id": "_gTarvHMJT3q"
      }
    },
    {
      "cell_type": "code",
      "source": [
        "# Creates random forest model.\n",
        "random_forest_final = RandomForestClassifier(n_estimators = 70)\n",
        "random_forest_final.fit(X_train, y_train)"
      ],
      "metadata": {
        "id": "4_qoJqLwJWKF"
      },
      "execution_count": null,
      "outputs": []
    },
    {
      "cell_type": "code",
      "source": [
        "# Gets accuracy of random forest model.\n",
        "random_forest_final.score(X_test, y_test)"
      ],
      "metadata": {
        "id": "mKyj1dcUJZqi"
      },
      "execution_count": null,
      "outputs": []
    },
    {
      "cell_type": "code",
      "source": [
        "# Confusion matrix.\n",
        "y_pred = random_forest_final.predict(X_test)\n",
        "cm = confusion_matrix(y_test, y_pred)\n",
        "cm_df = pd.DataFrame(cm, columns=['Predicted Positive', 'Predicted Negative'], index=['Actual Positive', 'Actual Negative'])\n",
        "print(cm_df)"
      ],
      "metadata": {
        "id": "XoZGF4gkJc4j"
      },
      "execution_count": null,
      "outputs": []
    }
  ]
}