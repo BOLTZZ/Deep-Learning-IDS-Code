{
  "cells": [
    {
      "cell_type": "markdown",
      "metadata": {
        "id": "D7C_CGfcN7Je"
      },
      "source": [
        "# Data Imports/Pre-Processing:"
      ]
    },
    {
      "cell_type": "code",
      "source": [
        "# Importing UNSW-NB15 data.\n",
        "!pip install --upgrade --no-cache-dir gdown\n",
        "!gdown https://drive.google.com/uc?id=1vSt-P_lya1Rzlyddivvr9byVei-goIZ0\n",
        "\n",
        "# Converting the csv file to dataframe.\n",
        "import pandas as pd\n",
        "df_UNSW = pd.read_csv('UNSW_all.csv')"
      ],
      "metadata": {
        "id": "V20JZtPRRFY0"
      },
      "execution_count": null,
      "outputs": []
    },
    {
      "cell_type": "code",
      "source": [
        "# Creating testing/training data for UNSW-NB15.\n",
        "from sklearn.model_selection import train_test_split\n",
        "from sklearn.preprocessing import StandardScaler\n",
        "scaler = StandardScaler()\n",
        "y = df_UNSW.label\n",
        "x = df_UNSW.drop(labels = ['label'], axis = 1)\n",
        "x = scaler.fit_transform(x)\n",
        "X_train_UNSW, X_test_UNSW, y_train_UNSW, y_test_UNSW = train_test_split(x, y, test_size=0.33, random_state=42)"
      ],
      "metadata": {
        "id": "8BEBjuZkRXO0"
      },
      "execution_count": null,
      "outputs": []
    },
    {
      "cell_type": "code",
      "source": [
        "# Importing Kyoto-2006 data.\n",
        "!pip install --upgrade --no-cache-dir gdown\n",
        "!gdown https://drive.google.com/uc?id=1z479qXYwfwg7sqFhGkGrPpsxd8oHhiNF\n",
        "\n",
        "# Converting the csv file to a dataframe.\n",
        "df_KYOTO = pd.read_csv(\"Kyoto_all.csv\")"
      ],
      "metadata": {
        "id": "P9aCSclfRXg5"
      },
      "execution_count": null,
      "outputs": []
    },
    {
      "cell_type": "code",
      "source": [
        "# Creating the testing/training data for KYOTO.\n",
        "y = df_KYOTO.Label\n",
        "x = df_KYOTO.drop(labels = ['Label'], axis = 1)\n",
        "scaler = StandardScaler()\n",
        "x = scaler.fit_transform(x)\n",
        "X_train_KYOTO, X_test_KYOTO, y_train_KYOTO, y_test_KOYTO = train_test_split(x, y, test_size=0.33, random_state=42)"
      ],
      "metadata": {
        "id": "jCx8W8h7idG_"
      },
      "execution_count": null,
      "outputs": []
    },
    {
      "cell_type": "markdown",
      "metadata": {
        "id": "UYb_Ae-AQivJ"
      },
      "source": [
        "# Convolutional Neural Network:"
      ]
    },
    {
      "cell_type": "code",
      "source": [
        "import tensorflow as tf\n",
        "\n",
        "# Define the input shape.\n",
        "input_shape = (106,1)\n",
        "\n",
        "# Create a CNN with the different layers (Conv1D, MaxPooling, Dropout, and Dense).\n",
        "cnn = tf.keras.Sequential()\n",
        "cnn.add(tf.keras.layers.Conv1D(32, kernel_size=3, activation='relu', input_shape=input_shape))\n",
        "cnn.add(tf.keras.layers.MaxPooling1D())\n",
        "cnn.add(tf.keras.layers.Conv1D(64, kernel_size=3, activation='relu'))\n",
        "cnn.add(tf.keras.layers.MaxPooling1D())\n",
        "cnn.add(tf.keras.layers.Conv1D(128, kernel_size=3, activation='relu'))\n",
        "cnn.add(tf.keras.layers.MaxPooling1D())\n",
        "cnn.add(tf.keras.layers.Flatten())\n",
        "cnn.add(tf.keras.layers.Dense(128, activation='relu'))\n",
        "cnn.add(tf.keras.layers.Dropout(0.2))\n",
        "cnn.add(tf.keras.layers.Dense(1, activation='sigmoid'))\n",
        "\n",
        "# Compile the model with binary crossentropy loss and Adam optimization.\n",
        "cnn.compile(loss='binary_crossentropy', optimizer='adam', metrics=['accuracy'])\n",
        "\n",
        "# Get the initial weights of the architecture. \n",
        "initial_weights = cnn.get_weights()"
      ],
      "metadata": {
        "id": "J-57fmjmqArI"
      },
      "execution_count": null,
      "outputs": []
    },
    {
      "cell_type": "code",
      "source": [
        "# Train the model on the UNSW-NB15 data.\n",
        "cnn.fit(X_train_UNSW, y_train_UNSW, batch_size=64, epochs=10)\n",
        "\n",
        "# Get the accuracy of the model on the test data.\n",
        "loss, accuracy = cnn.evaluate(X_test_UNSW, y_test_UNSW)\n",
        "print('Test accuracy:', accuracy)"
      ],
      "metadata": {
        "id": "J9vX9x5ITAlA"
      },
      "execution_count": null,
      "outputs": []
    },
    {
      "cell_type": "code",
      "source": [
        "# Unfit the model.\n",
        "cnn.set_weights(initial_weights)\n",
        "\n",
        "# Train the model on the KYOTO-2006 data.\n",
        "cnn.fit(X_train_KYOTO, y_train_KYOTO, batch_size=64, epochs=10)\n",
        "\n",
        "# Get the accuracy of the model on the test data.\n",
        "loss, accuracy = cnn.evaluate(X_test_KYOTO, y_test_KOYTO)\n",
        "print('Test accuracy:', accuracy)"
      ],
      "metadata": {
        "id": "HxIGwcsjrzke"
      },
      "execution_count": null,
      "outputs": []
    },
    {
      "cell_type": "markdown",
      "source": [
        "# Multi-Layer Perceptron:"
      ],
      "metadata": {
        "id": "VyVviqx726lI"
      }
    },
    {
      "cell_type": "code",
      "source": [
        "import tensorflow as tf\n",
        "\n",
        "# Define the input shape.\n",
        "input_shape = (106,)\n",
        "\n",
        "# Create the MLP Model using the Dense layers.\n",
        "mlp = tf.keras.Sequential()\n",
        "mlp.add(tf.keras.layers.Dense(212, activation='relu', input_shape=input_shape))\n",
        "mlp.add(tf.keras.layers.Dense(100, activation='relu'))\n",
        "mlp.add(tf.keras.layers.Dense(1, activation='sigmoid'))\n",
        "\n",
        "# Compile the model with binary crossentropy loss and Adam optimization.\n",
        "mlp.compile(loss='binary_crossentropy', optimizer='adam', metrics=['accuracy'])\n",
        "\n",
        "# Get the initial weights of the architecture. \n",
        "initial_weights = mlp.get_weights()"
      ],
      "metadata": {
        "id": "GPvGE5if2-yL"
      },
      "execution_count": null,
      "outputs": []
    },
    {
      "cell_type": "code",
      "source": [
        "# Train the model on the UNSW-NB15 data.\n",
        "mlp.fit(X_train_UNSW, y_train_UNSW, batch_size=64, epochs=10)\n",
        "\n",
        "# Get the accuracy of the model on the test data.\n",
        "loss, accuracy = mlp.evaluate(X_test_UNSW, y_test_UNSW)\n",
        "print('Test accuracy:', accuracy)"
      ],
      "metadata": {
        "id": "zpxy9-bBhG1J"
      },
      "execution_count": null,
      "outputs": []
    },
    {
      "cell_type": "code",
      "source": [
        "# Unfit the model.\n",
        "mlp.set_weights(initial_weights)\n",
        "\n",
        "# Train the model on the KYOTO-2006 data.\n",
        "mlp.fit(X_train_KYOTO, y_train_KYOTO, batch_size=64, epochs=10)\n",
        "\n",
        "# Get the accuracy of the model on the test data.\n",
        "loss, accuracy = mlp.evaluate(X_test_KYOTO, y_test_KOYTO)\n",
        "print('Test accuracy:', accuracy)"
      ],
      "metadata": {
        "id": "1igIVmLV5sW7"
      },
      "execution_count": null,
      "outputs": []
    },
    {
      "cell_type": "markdown",
      "metadata": {
        "id": "c4MKzqbhWt5J"
      },
      "source": [
        "# Variational Autoencoder:"
      ]
    },
    {
      "cell_type": "code",
      "execution_count": null,
      "metadata": {
        "id": "2wqvrQgoWwgC"
      },
      "outputs": [],
      "source": [
        "# Creating the dimensions for VAE.\n",
        "import keras\n",
        "from keras import layers\n",
        "original_dim = 106\n",
        "intermediate_dim = 20\n",
        "latent_dim = 2\n",
        "\n",
        "inputs = keras.Input(shape=(original_dim,))\n",
        "h = layers.Dense(intermediate_dim, activation='relu')(inputs)\n",
        "z_mean = layers.Dense(latent_dim)(h)\n",
        "z_log_sigma = layers.Dense(latent_dim)(h)"
      ]
    },
    {
      "cell_type": "code",
      "source": [
        "# Method to sample new points from latent space.\n",
        "from keras import backend as K\n",
        "\n",
        "def sampling(args):\n",
        "    z_mean, z_log_sigma = args\n",
        "    epsilon = K.random_normal(shape=(K.shape(z_mean)[0], latent_dim),\n",
        "                              mean=0., stddev=0.1)\n",
        "    return z_mean + K.exp(z_log_sigma) * epsilon\n",
        "\n",
        "z = layers.Lambda(sampling)([z_mean, z_log_sigma])"
      ],
      "metadata": {
        "id": "eN9fg9nDWKEQ"
      },
      "execution_count": null,
      "outputs": []
    },
    {
      "cell_type": "code",
      "source": [
        "# Create encoder.\n",
        "encoder = keras.Model(inputs, [z_mean, z_log_sigma, z], name='encoder')\n",
        "\n",
        "latent_inputs = keras.Input(shape=(latent_dim,), name='z_sampling')\n",
        "x = layers.Dense(intermediate_dim, activation='sigmoid')(latent_inputs)\n",
        "outputs = layers.Dense(original_dim, activation='sigmoid')(x)\n",
        "decoder = keras.Model(latent_inputs, outputs, name='decoder')\n",
        "\n",
        "# Instantiate VAE model.\n",
        "outputs = decoder(encoder(inputs)[2])\n",
        "vae = keras.Model(inputs, outputs, name='vae_mlp')"
      ],
      "metadata": {
        "id": "cn6DigyqWLiE"
      },
      "execution_count": null,
      "outputs": []
    },
    {
      "cell_type": "code",
      "source": [
        "# Train the model using the end-to-end model, with a custom loss function (reconstruction term + KL divergence regularization term)\n",
        "reconstruction_loss = keras.losses.binary_crossentropy(inputs, outputs)\n",
        "reconstruction_loss *= original_dim\n",
        "kl_loss = 1 + z_log_sigma - K.square(z_mean) - K.exp(z_log_sigma)\n",
        "kl_loss = K.sum(kl_loss, axis=-1)\n",
        "kl_loss *= -0.5\n",
        "vae_loss = K.mean(reconstruction_loss + kl_loss)\n",
        "vae.add_loss(vae_loss)\n",
        "vae.compile(optimizer='adam', metrics = ['accuracy'])\n",
        "\n",
        "# Get the initial weights of the architecture. \n",
        "initial_weights = vae.get_weights()"
      ],
      "metadata": {
        "id": "PtELpFc2WMqC"
      },
      "execution_count": null,
      "outputs": []
    },
    {
      "cell_type": "code",
      "source": [
        "# Train the VAE on UNSW-NB15.\n",
        "vae.fit(X_train_UNSW, y_train_UNSW,\n",
        "        epochs=50,\n",
        "        batch_size=2250,\n",
        "        validation_data=(X_test_UNSW, y_test_UNSW))"
      ],
      "metadata": {
        "id": "Y5ksbZ2HWO73"
      },
      "execution_count": null,
      "outputs": []
    },
    {
      "cell_type": "code",
      "source": [
        "# Print the accuracy on the test data.\n",
        "loss, accuracy = vae.evaluate(X_test_UNSW, y_test_UNSW)\n",
        "print('Test accuracy:', accuracy)"
      ],
      "metadata": {
        "id": "CrI4trddWQ02"
      },
      "execution_count": null,
      "outputs": []
    },
    {
      "cell_type": "code",
      "source": [
        "# Unfit the model.\n",
        "vae.set_weights(initial_weights)\n",
        "\n",
        "# Train the VAE on KYOTO-2006.\n",
        "vae.fit(X_train_KYOTO, y_train_KYOTO,\n",
        "        epochs=50,\n",
        "        batch_size=2250,\n",
        "        validation_data=(X_test_KYOTO, y_test_KOYTO))"
      ],
      "metadata": {
        "id": "9yn9cyP8n4Vh"
      },
      "execution_count": null,
      "outputs": []
    },
    {
      "cell_type": "code",
      "source": [
        "# Print the accuracy on the test data.\n",
        "loss, accuracy = vae.evaluate(X_test_UNSW, y_test_UNSW)\n",
        "print('Test accuracy:', accuracy)"
      ],
      "metadata": {
        "id": "DecI3PfPVLip"
      },
      "execution_count": null,
      "outputs": []
    }
  ],
  "metadata": {
    "colab": {
      "provenance": [],
      "collapsed_sections": [
        "D7C_CGfcN7Je",
        "c4MKzqbhWt5J"
      ],
      "machine_shape": "hm"
    },
    "kernelspec": {
      "display_name": "Python 3",
      "name": "python3"
    },
    "language_info": {
      "name": "python"
    },
    "gpuClass": "premium",
    "accelerator": "GPU"
  },
  "nbformat": 4,
  "nbformat_minor": 0
}